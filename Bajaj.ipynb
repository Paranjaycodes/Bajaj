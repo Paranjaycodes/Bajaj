{
  "nbformat": 4,
  "nbformat_minor": 0,
  "metadata": {
    "colab": {
      "provenance": []
    },
    "kernelspec": {
      "name": "python3",
      "display_name": "Python 3"
    },
    "language_info": {
      "name": "python"
    }
  },
  "cells": [
    {
      "cell_type": "code",
      "execution_count": 29,
      "metadata": {
        "id": "ObLhC8XeNpn2"
      },
      "outputs": [],
      "source": [
        "import pandas as pd\n",
        "import numpy as np\n",
        "import matplotlib.pyplot as plt\n",
        "import seaborn as sns\n"
      ]
    },
    {
      "cell_type": "code",
      "source": [
        "pd.read_json(\"https://drive.usercontent.google.com/download?id=1_XyMO2udgEwso-oIKdTCxRgg4LWA11o3&export=download&authuser=0\")"
      ],
      "metadata": {
        "colab": {
          "base_uri": "https://localhost:8080/",
          "height": 1000
        },
        "id": "gQPzAurNPiZr",
        "outputId": "b3a0ca8a-91b7-4ade-cb1a-7c0f12017bc7"
      },
      "execution_count": 30,
      "outputs": [
        {
          "output_type": "execute_result",
          "data": {
            "text/plain": [
              "         _id appointmentId                                     patientDetails  \\\n",
              "0   T6hf3rb5     40d2-9c9f  {'_id': 'T6hb630b3', 'firstName': 'Css', 'last...   \n",
              "1   T65g3rb5      40dbtc9f  {'_id': 'T6h33b300', 'firstName': 'Lokesh', 'l...   \n",
              "2   T7g6Srb5      g3Wt5c9f  {'_id': 'TjhB4373', 'phrId': '63b5hvy614d5', '...   \n",
              "3   94bg8W8d      fb6-a535  {'_id': '6df4R5b', 'phrId': '644nig7y', 'first...   \n",
              "4   T6h8H56c       67h7KL9  {'_id': 'lK9hy06a', 'firstName': 'Raghu Viju',...   \n",
              "5    T9Jh8c8        Hy7Y91  {'_id': 'kI9d5c6', 'firstName': 'Dinesh Kumar'...   \n",
              "6   9Is624b9     10dY8a-4a  {'_id': 'i9R324b7', 'phrId': '67Yt2b97', 'firs...   \n",
              "7   T8H9c3c6      e8056Ye8  {'_id': 'T6h41b5ad3d8002ad9c3c4', 'firstName':...   \n",
              "8    T8Ud380     dbc0-c66b  {'_id': 'T9Iy347e', 'firstName': 'Dinesh', 'la...   \n",
              "9    T345fG4        1576a7  {'_id': 'T4Rb1a2', 'firstName': 'Sanjay', 'las...   \n",
              "10  T4F6a175       b6Te4ac  {'_id': 'Tr4T2173', 'phrId': '6E48U79', 'first...   \n",
              "11   TW3r002        bu5Qfb  {'_id': 'T6Wa50', 'firstName': 'Nirmala', 'las...   \n",
              "12   6U6Ra36       86U8Y45  {'_id': '65sRa36', 'firstName': 'Satish', 'las...   \n",
              "13   u7Y7Aa5       Ufd7231  {'_id': 'UG67231', 'phrId': 'T6a7231', 'firstN...   \n",
              "14   T3R5dec       E4u5Ea2  {'_id': 'E4u5Ea2', 'firstName': 'Satyanaaryan'...   \n",
              "15   T4E7Ge6      T4E3e410  {'_id': 'T4E7Ge6', 'firstName': 'Nivitha', 'la...   \n",
              "16  E5336545       04Re22d  {'_id': '04Re22d', 'firstName': 'Tejpal', 'las...   \n",
              "17   T7Ys58b      af9784hf  {'_id': 'u7dWa589', 'firstName': 'Nandhini', '...   \n",
              "18  Y874Us5w       I8eW201  {'_id': 'TU7e913', 'firstName': 'Dhanamma', 'l...   \n",
              "19   Y7s5G42     f7r501cb1  {'_id': 'H8s2d40', 'firstName': 'Kushal', 'las...   \n",
              "20  Y7eE5cd8    cf092c8t6c  {'_id': 'u9cd6', 'phrId': '6463U8s231', 'first...   \n",
              "21   I9984e8      O02n262e  {'_id': 'Pdh97S6', 'phrId': 'Jus0480', 'firstN...   \n",
              "22  Tu78a783      5dfN9s41  {'_id': 'h02U8a781', 'firstName': 'Preethi', '...   \n",
              "23   U9D2w6c      cc86re0f  {'_id': 'T6h40a5ad3d8002ad9c06a', 'firstName':...   \n",
              "24  T6hY6sEe       bd99dU7  {'_id': 'Y7sHec', 'firstName': 'Naresh', 'last...   \n",
              "25    H7sT6c        bcWe50  {'_id': 'T6h408981ayf32b63bcfa', 'firstName': ...   \n",
              "26   8Utyd5b       7au8se3  {'_id': 'T6U67af9', 'firstName': 'Govardhan', ...   \n",
              "27  y87Ta5c7      432cT213  {'_id': 'R53Et5W', 'firstName': 'Rajeshwari', ...   \n",
              "28  Ub7S65b7      D3fFr42c  {'_id': 'dE3r$2b5', 'firstName': 'Santosh', 'l...   \n",
              "29   yD7s2d7       7uyT6Rs  {'_id': 'TI93Hd5', 'firstName': 'Tarachand', '...   \n",
              "30   I9Sb4e8        O02n2e  {'_id': 'Pdh97S6', 'phrId': 'Jus0480', 'firstN...   \n",
              "\n",
              "       phoneNumber                                   consultationData  \n",
              "0      96686896670  {'adviceTemplates': [], 'advices': [], 'attach...  \n",
              "1       9496368916  {'adviceTemplates': [], 'advices': [], 'attach...  \n",
              "2       7787204833  {'adviceTemplates': [], 'advices': [], 'attach...  \n",
              "3       9376756879  {'adviceTemplates': [], 'advices': [], 'attach...  \n",
              "4       5267384241  {'adviceTemplates': [], 'advices': [], 'attach...  \n",
              "5    +919826374025  {'adviceTemplates': [], 'advices': [], 'attach...  \n",
              "6       7587265252  {'adviceTemplates': [], 'advices': [], 'attach...  \n",
              "7       5586958767  {'adviceTemplates': [], 'advices': [], 'attach...  \n",
              "8       9987602525  {'adviceTemplates': [], 'advices': [], 'attach...  \n",
              "9       9234354366  {'adviceTemplates': [], 'advices': [], 'attach...  \n",
              "10      4863281056  {'adviceTemplates': [], 'advices': [], 'attach...  \n",
              "11      8687986800  {'adviceTemplates': [], 'advices': [], 'attach...  \n",
              "12                  {'adviceTemplates': [], 'advices': [], 'attach...  \n",
              "13      7152684236  {'labTest': [], 'emrTemplates': [], 'doctorNot...  \n",
              "14                  {'adviceTemplates': [], 'advices': [], 'attach...  \n",
              "15      9184723620  {'adviceTemplates': [], 'advices': [], 'attach...  \n",
              "16                  {'adviceTemplates': [], 'advices': [], 'attach...  \n",
              "17      5847346075  {'adviceTemplates': [], 'advices': [], 'attach...  \n",
              "18      9064537237  {'adviceTemplates': [], 'advices': [], 'attach...  \n",
              "19                  {'adviceTemplates': [], 'advices': [], 'attach...  \n",
              "20       992727892  {'adviceTemplates': [], 'advices': [], 'attach...  \n",
              "21      6888324121  {'adviceTemplates': [], 'advices': [], 'attach...  \n",
              "22      8248594521  {'adviceTemplates': [], 'advices': [], 'attach...  \n",
              "23   +917938475936  {'adviceTemplates': [], 'advices': [], 'attach...  \n",
              "24  +9124648979746  {'adviceTemplates': [], 'advices': [], 'attach...  \n",
              "25   +916883788633  {'adviceTemplates': [], 'advices': [], 'attach...  \n",
              "26   +916636278363  {'adviceTemplates': [], 'advices': [], 'attach...  \n",
              "27      6525356535  {'adviceTemplates': [], 'advices': [], 'attach...  \n",
              "28                  {'adviceTemplates': [], 'advices': [], 'attach...  \n",
              "29   +919093872282  {'adviceTemplates': [], 'advices': [], 'attach...  \n",
              "30   +916888324121  {'adviceTemplates': [], 'advices': [], 'attach...  "
            ],
            "text/html": [
              "\n",
              "  <div id=\"df-9a328294-0b4d-416f-946a-139073b0f27e\" class=\"colab-df-container\">\n",
              "    <div>\n",
              "<style scoped>\n",
              "    .dataframe tbody tr th:only-of-type {\n",
              "        vertical-align: middle;\n",
              "    }\n",
              "\n",
              "    .dataframe tbody tr th {\n",
              "        vertical-align: top;\n",
              "    }\n",
              "\n",
              "    .dataframe thead th {\n",
              "        text-align: right;\n",
              "    }\n",
              "</style>\n",
              "<table border=\"1\" class=\"dataframe\">\n",
              "  <thead>\n",
              "    <tr style=\"text-align: right;\">\n",
              "      <th></th>\n",
              "      <th>_id</th>\n",
              "      <th>appointmentId</th>\n",
              "      <th>patientDetails</th>\n",
              "      <th>phoneNumber</th>\n",
              "      <th>consultationData</th>\n",
              "    </tr>\n",
              "  </thead>\n",
              "  <tbody>\n",
              "    <tr>\n",
              "      <th>0</th>\n",
              "      <td>T6hf3rb5</td>\n",
              "      <td>40d2-9c9f</td>\n",
              "      <td>{'_id': 'T6hb630b3', 'firstName': 'Css', 'last...</td>\n",
              "      <td>96686896670</td>\n",
              "      <td>{'adviceTemplates': [], 'advices': [], 'attach...</td>\n",
              "    </tr>\n",
              "    <tr>\n",
              "      <th>1</th>\n",
              "      <td>T65g3rb5</td>\n",
              "      <td>40dbtc9f</td>\n",
              "      <td>{'_id': 'T6h33b300', 'firstName': 'Lokesh', 'l...</td>\n",
              "      <td>9496368916</td>\n",
              "      <td>{'adviceTemplates': [], 'advices': [], 'attach...</td>\n",
              "    </tr>\n",
              "    <tr>\n",
              "      <th>2</th>\n",
              "      <td>T7g6Srb5</td>\n",
              "      <td>g3Wt5c9f</td>\n",
              "      <td>{'_id': 'TjhB4373', 'phrId': '63b5hvy614d5', '...</td>\n",
              "      <td>7787204833</td>\n",
              "      <td>{'adviceTemplates': [], 'advices': [], 'attach...</td>\n",
              "    </tr>\n",
              "    <tr>\n",
              "      <th>3</th>\n",
              "      <td>94bg8W8d</td>\n",
              "      <td>fb6-a535</td>\n",
              "      <td>{'_id': '6df4R5b', 'phrId': '644nig7y', 'first...</td>\n",
              "      <td>9376756879</td>\n",
              "      <td>{'adviceTemplates': [], 'advices': [], 'attach...</td>\n",
              "    </tr>\n",
              "    <tr>\n",
              "      <th>4</th>\n",
              "      <td>T6h8H56c</td>\n",
              "      <td>67h7KL9</td>\n",
              "      <td>{'_id': 'lK9hy06a', 'firstName': 'Raghu Viju',...</td>\n",
              "      <td>5267384241</td>\n",
              "      <td>{'adviceTemplates': [], 'advices': [], 'attach...</td>\n",
              "    </tr>\n",
              "    <tr>\n",
              "      <th>5</th>\n",
              "      <td>T9Jh8c8</td>\n",
              "      <td>Hy7Y91</td>\n",
              "      <td>{'_id': 'kI9d5c6', 'firstName': 'Dinesh Kumar'...</td>\n",
              "      <td>+919826374025</td>\n",
              "      <td>{'adviceTemplates': [], 'advices': [], 'attach...</td>\n",
              "    </tr>\n",
              "    <tr>\n",
              "      <th>6</th>\n",
              "      <td>9Is624b9</td>\n",
              "      <td>10dY8a-4a</td>\n",
              "      <td>{'_id': 'i9R324b7', 'phrId': '67Yt2b97', 'firs...</td>\n",
              "      <td>7587265252</td>\n",
              "      <td>{'adviceTemplates': [], 'advices': [], 'attach...</td>\n",
              "    </tr>\n",
              "    <tr>\n",
              "      <th>7</th>\n",
              "      <td>T8H9c3c6</td>\n",
              "      <td>e8056Ye8</td>\n",
              "      <td>{'_id': 'T6h41b5ad3d8002ad9c3c4', 'firstName':...</td>\n",
              "      <td>5586958767</td>\n",
              "      <td>{'adviceTemplates': [], 'advices': [], 'attach...</td>\n",
              "    </tr>\n",
              "    <tr>\n",
              "      <th>8</th>\n",
              "      <td>T8Ud380</td>\n",
              "      <td>dbc0-c66b</td>\n",
              "      <td>{'_id': 'T9Iy347e', 'firstName': 'Dinesh', 'la...</td>\n",
              "      <td>9987602525</td>\n",
              "      <td>{'adviceTemplates': [], 'advices': [], 'attach...</td>\n",
              "    </tr>\n",
              "    <tr>\n",
              "      <th>9</th>\n",
              "      <td>T345fG4</td>\n",
              "      <td>1576a7</td>\n",
              "      <td>{'_id': 'T4Rb1a2', 'firstName': 'Sanjay', 'las...</td>\n",
              "      <td>9234354366</td>\n",
              "      <td>{'adviceTemplates': [], 'advices': [], 'attach...</td>\n",
              "    </tr>\n",
              "    <tr>\n",
              "      <th>10</th>\n",
              "      <td>T4F6a175</td>\n",
              "      <td>b6Te4ac</td>\n",
              "      <td>{'_id': 'Tr4T2173', 'phrId': '6E48U79', 'first...</td>\n",
              "      <td>4863281056</td>\n",
              "      <td>{'adviceTemplates': [], 'advices': [], 'attach...</td>\n",
              "    </tr>\n",
              "    <tr>\n",
              "      <th>11</th>\n",
              "      <td>TW3r002</td>\n",
              "      <td>bu5Qfb</td>\n",
              "      <td>{'_id': 'T6Wa50', 'firstName': 'Nirmala', 'las...</td>\n",
              "      <td>8687986800</td>\n",
              "      <td>{'adviceTemplates': [], 'advices': [], 'attach...</td>\n",
              "    </tr>\n",
              "    <tr>\n",
              "      <th>12</th>\n",
              "      <td>6U6Ra36</td>\n",
              "      <td>86U8Y45</td>\n",
              "      <td>{'_id': '65sRa36', 'firstName': 'Satish', 'las...</td>\n",
              "      <td></td>\n",
              "      <td>{'adviceTemplates': [], 'advices': [], 'attach...</td>\n",
              "    </tr>\n",
              "    <tr>\n",
              "      <th>13</th>\n",
              "      <td>u7Y7Aa5</td>\n",
              "      <td>Ufd7231</td>\n",
              "      <td>{'_id': 'UG67231', 'phrId': 'T6a7231', 'firstN...</td>\n",
              "      <td>7152684236</td>\n",
              "      <td>{'labTest': [], 'emrTemplates': [], 'doctorNot...</td>\n",
              "    </tr>\n",
              "    <tr>\n",
              "      <th>14</th>\n",
              "      <td>T3R5dec</td>\n",
              "      <td>E4u5Ea2</td>\n",
              "      <td>{'_id': 'E4u5Ea2', 'firstName': 'Satyanaaryan'...</td>\n",
              "      <td></td>\n",
              "      <td>{'adviceTemplates': [], 'advices': [], 'attach...</td>\n",
              "    </tr>\n",
              "    <tr>\n",
              "      <th>15</th>\n",
              "      <td>T4E7Ge6</td>\n",
              "      <td>T4E3e410</td>\n",
              "      <td>{'_id': 'T4E7Ge6', 'firstName': 'Nivitha', 'la...</td>\n",
              "      <td>9184723620</td>\n",
              "      <td>{'adviceTemplates': [], 'advices': [], 'attach...</td>\n",
              "    </tr>\n",
              "    <tr>\n",
              "      <th>16</th>\n",
              "      <td>E5336545</td>\n",
              "      <td>04Re22d</td>\n",
              "      <td>{'_id': '04Re22d', 'firstName': 'Tejpal', 'las...</td>\n",
              "      <td></td>\n",
              "      <td>{'adviceTemplates': [], 'advices': [], 'attach...</td>\n",
              "    </tr>\n",
              "    <tr>\n",
              "      <th>17</th>\n",
              "      <td>T7Ys58b</td>\n",
              "      <td>af9784hf</td>\n",
              "      <td>{'_id': 'u7dWa589', 'firstName': 'Nandhini', '...</td>\n",
              "      <td>5847346075</td>\n",
              "      <td>{'adviceTemplates': [], 'advices': [], 'attach...</td>\n",
              "    </tr>\n",
              "    <tr>\n",
              "      <th>18</th>\n",
              "      <td>Y874Us5w</td>\n",
              "      <td>I8eW201</td>\n",
              "      <td>{'_id': 'TU7e913', 'firstName': 'Dhanamma', 'l...</td>\n",
              "      <td>9064537237</td>\n",
              "      <td>{'adviceTemplates': [], 'advices': [], 'attach...</td>\n",
              "    </tr>\n",
              "    <tr>\n",
              "      <th>19</th>\n",
              "      <td>Y7s5G42</td>\n",
              "      <td>f7r501cb1</td>\n",
              "      <td>{'_id': 'H8s2d40', 'firstName': 'Kushal', 'las...</td>\n",
              "      <td></td>\n",
              "      <td>{'adviceTemplates': [], 'advices': [], 'attach...</td>\n",
              "    </tr>\n",
              "    <tr>\n",
              "      <th>20</th>\n",
              "      <td>Y7eE5cd8</td>\n",
              "      <td>cf092c8t6c</td>\n",
              "      <td>{'_id': 'u9cd6', 'phrId': '6463U8s231', 'first...</td>\n",
              "      <td>992727892</td>\n",
              "      <td>{'adviceTemplates': [], 'advices': [], 'attach...</td>\n",
              "    </tr>\n",
              "    <tr>\n",
              "      <th>21</th>\n",
              "      <td>I9984e8</td>\n",
              "      <td>O02n262e</td>\n",
              "      <td>{'_id': 'Pdh97S6', 'phrId': 'Jus0480', 'firstN...</td>\n",
              "      <td>6888324121</td>\n",
              "      <td>{'adviceTemplates': [], 'advices': [], 'attach...</td>\n",
              "    </tr>\n",
              "    <tr>\n",
              "      <th>22</th>\n",
              "      <td>Tu78a783</td>\n",
              "      <td>5dfN9s41</td>\n",
              "      <td>{'_id': 'h02U8a781', 'firstName': 'Preethi', '...</td>\n",
              "      <td>8248594521</td>\n",
              "      <td>{'adviceTemplates': [], 'advices': [], 'attach...</td>\n",
              "    </tr>\n",
              "    <tr>\n",
              "      <th>23</th>\n",
              "      <td>U9D2w6c</td>\n",
              "      <td>cc86re0f</td>\n",
              "      <td>{'_id': 'T6h40a5ad3d8002ad9c06a', 'firstName':...</td>\n",
              "      <td>+917938475936</td>\n",
              "      <td>{'adviceTemplates': [], 'advices': [], 'attach...</td>\n",
              "    </tr>\n",
              "    <tr>\n",
              "      <th>24</th>\n",
              "      <td>T6hY6sEe</td>\n",
              "      <td>bd99dU7</td>\n",
              "      <td>{'_id': 'Y7sHec', 'firstName': 'Naresh', 'last...</td>\n",
              "      <td>+9124648979746</td>\n",
              "      <td>{'adviceTemplates': [], 'advices': [], 'attach...</td>\n",
              "    </tr>\n",
              "    <tr>\n",
              "      <th>25</th>\n",
              "      <td>H7sT6c</td>\n",
              "      <td>bcWe50</td>\n",
              "      <td>{'_id': 'T6h408981ayf32b63bcfa', 'firstName': ...</td>\n",
              "      <td>+916883788633</td>\n",
              "      <td>{'adviceTemplates': [], 'advices': [], 'attach...</td>\n",
              "    </tr>\n",
              "    <tr>\n",
              "      <th>26</th>\n",
              "      <td>8Utyd5b</td>\n",
              "      <td>7au8se3</td>\n",
              "      <td>{'_id': 'T6U67af9', 'firstName': 'Govardhan', ...</td>\n",
              "      <td>+916636278363</td>\n",
              "      <td>{'adviceTemplates': [], 'advices': [], 'attach...</td>\n",
              "    </tr>\n",
              "    <tr>\n",
              "      <th>27</th>\n",
              "      <td>y87Ta5c7</td>\n",
              "      <td>432cT213</td>\n",
              "      <td>{'_id': 'R53Et5W', 'firstName': 'Rajeshwari', ...</td>\n",
              "      <td>6525356535</td>\n",
              "      <td>{'adviceTemplates': [], 'advices': [], 'attach...</td>\n",
              "    </tr>\n",
              "    <tr>\n",
              "      <th>28</th>\n",
              "      <td>Ub7S65b7</td>\n",
              "      <td>D3fFr42c</td>\n",
              "      <td>{'_id': 'dE3r$2b5', 'firstName': 'Santosh', 'l...</td>\n",
              "      <td></td>\n",
              "      <td>{'adviceTemplates': [], 'advices': [], 'attach...</td>\n",
              "    </tr>\n",
              "    <tr>\n",
              "      <th>29</th>\n",
              "      <td>yD7s2d7</td>\n",
              "      <td>7uyT6Rs</td>\n",
              "      <td>{'_id': 'TI93Hd5', 'firstName': 'Tarachand', '...</td>\n",
              "      <td>+919093872282</td>\n",
              "      <td>{'adviceTemplates': [], 'advices': [], 'attach...</td>\n",
              "    </tr>\n",
              "    <tr>\n",
              "      <th>30</th>\n",
              "      <td>I9Sb4e8</td>\n",
              "      <td>O02n2e</td>\n",
              "      <td>{'_id': 'Pdh97S6', 'phrId': 'Jus0480', 'firstN...</td>\n",
              "      <td>+916888324121</td>\n",
              "      <td>{'adviceTemplates': [], 'advices': [], 'attach...</td>\n",
              "    </tr>\n",
              "  </tbody>\n",
              "</table>\n",
              "</div>\n",
              "    <div class=\"colab-df-buttons\">\n",
              "\n",
              "  <div class=\"colab-df-container\">\n",
              "    <button class=\"colab-df-convert\" onclick=\"convertToInteractive('df-9a328294-0b4d-416f-946a-139073b0f27e')\"\n",
              "            title=\"Convert this dataframe to an interactive table.\"\n",
              "            style=\"display:none;\">\n",
              "\n",
              "  <svg xmlns=\"http://www.w3.org/2000/svg\" height=\"24px\" viewBox=\"0 -960 960 960\">\n",
              "    <path d=\"M120-120v-720h720v720H120Zm60-500h600v-160H180v160Zm220 220h160v-160H400v160Zm0 220h160v-160H400v160ZM180-400h160v-160H180v160Zm440 0h160v-160H620v160ZM180-180h160v-160H180v160Zm440 0h160v-160H620v160Z\"/>\n",
              "  </svg>\n",
              "    </button>\n",
              "\n",
              "  <style>\n",
              "    .colab-df-container {\n",
              "      display:flex;\n",
              "      gap: 12px;\n",
              "    }\n",
              "\n",
              "    .colab-df-convert {\n",
              "      background-color: #E8F0FE;\n",
              "      border: none;\n",
              "      border-radius: 50%;\n",
              "      cursor: pointer;\n",
              "      display: none;\n",
              "      fill: #1967D2;\n",
              "      height: 32px;\n",
              "      padding: 0 0 0 0;\n",
              "      width: 32px;\n",
              "    }\n",
              "\n",
              "    .colab-df-convert:hover {\n",
              "      background-color: #E2EBFA;\n",
              "      box-shadow: 0px 1px 2px rgba(60, 64, 67, 0.3), 0px 1px 3px 1px rgba(60, 64, 67, 0.15);\n",
              "      fill: #174EA6;\n",
              "    }\n",
              "\n",
              "    .colab-df-buttons div {\n",
              "      margin-bottom: 4px;\n",
              "    }\n",
              "\n",
              "    [theme=dark] .colab-df-convert {\n",
              "      background-color: #3B4455;\n",
              "      fill: #D2E3FC;\n",
              "    }\n",
              "\n",
              "    [theme=dark] .colab-df-convert:hover {\n",
              "      background-color: #434B5C;\n",
              "      box-shadow: 0px 1px 3px 1px rgba(0, 0, 0, 0.15);\n",
              "      filter: drop-shadow(0px 1px 2px rgba(0, 0, 0, 0.3));\n",
              "      fill: #FFFFFF;\n",
              "    }\n",
              "  </style>\n",
              "\n",
              "    <script>\n",
              "      const buttonEl =\n",
              "        document.querySelector('#df-9a328294-0b4d-416f-946a-139073b0f27e button.colab-df-convert');\n",
              "      buttonEl.style.display =\n",
              "        google.colab.kernel.accessAllowed ? 'block' : 'none';\n",
              "\n",
              "      async function convertToInteractive(key) {\n",
              "        const element = document.querySelector('#df-9a328294-0b4d-416f-946a-139073b0f27e');\n",
              "        const dataTable =\n",
              "          await google.colab.kernel.invokeFunction('convertToInteractive',\n",
              "                                                    [key], {});\n",
              "        if (!dataTable) return;\n",
              "\n",
              "        const docLinkHtml = 'Like what you see? Visit the ' +\n",
              "          '<a target=\"_blank\" href=https://colab.research.google.com/notebooks/data_table.ipynb>data table notebook</a>'\n",
              "          + ' to learn more about interactive tables.';\n",
              "        element.innerHTML = '';\n",
              "        dataTable['output_type'] = 'display_data';\n",
              "        await google.colab.output.renderOutput(dataTable, element);\n",
              "        const docLink = document.createElement('div');\n",
              "        docLink.innerHTML = docLinkHtml;\n",
              "        element.appendChild(docLink);\n",
              "      }\n",
              "    </script>\n",
              "  </div>\n",
              "\n",
              "\n",
              "<div id=\"df-2e549ef9-6b2e-4e67-95c2-9b170802199b\">\n",
              "  <button class=\"colab-df-quickchart\" onclick=\"quickchart('df-2e549ef9-6b2e-4e67-95c2-9b170802199b')\"\n",
              "            title=\"Suggest charts\"\n",
              "            style=\"display:none;\">\n",
              "\n",
              "<svg xmlns=\"http://www.w3.org/2000/svg\" height=\"24px\"viewBox=\"0 0 24 24\"\n",
              "     width=\"24px\">\n",
              "    <g>\n",
              "        <path d=\"M19 3H5c-1.1 0-2 .9-2 2v14c0 1.1.9 2 2 2h14c1.1 0 2-.9 2-2V5c0-1.1-.9-2-2-2zM9 17H7v-7h2v7zm4 0h-2V7h2v10zm4 0h-2v-4h2v4z\"/>\n",
              "    </g>\n",
              "</svg>\n",
              "  </button>\n",
              "\n",
              "<style>\n",
              "  .colab-df-quickchart {\n",
              "      --bg-color: #E8F0FE;\n",
              "      --fill-color: #1967D2;\n",
              "      --hover-bg-color: #E2EBFA;\n",
              "      --hover-fill-color: #174EA6;\n",
              "      --disabled-fill-color: #AAA;\n",
              "      --disabled-bg-color: #DDD;\n",
              "  }\n",
              "\n",
              "  [theme=dark] .colab-df-quickchart {\n",
              "      --bg-color: #3B4455;\n",
              "      --fill-color: #D2E3FC;\n",
              "      --hover-bg-color: #434B5C;\n",
              "      --hover-fill-color: #FFFFFF;\n",
              "      --disabled-bg-color: #3B4455;\n",
              "      --disabled-fill-color: #666;\n",
              "  }\n",
              "\n",
              "  .colab-df-quickchart {\n",
              "    background-color: var(--bg-color);\n",
              "    border: none;\n",
              "    border-radius: 50%;\n",
              "    cursor: pointer;\n",
              "    display: none;\n",
              "    fill: var(--fill-color);\n",
              "    height: 32px;\n",
              "    padding: 0;\n",
              "    width: 32px;\n",
              "  }\n",
              "\n",
              "  .colab-df-quickchart:hover {\n",
              "    background-color: var(--hover-bg-color);\n",
              "    box-shadow: 0 1px 2px rgba(60, 64, 67, 0.3), 0 1px 3px 1px rgba(60, 64, 67, 0.15);\n",
              "    fill: var(--button-hover-fill-color);\n",
              "  }\n",
              "\n",
              "  .colab-df-quickchart-complete:disabled,\n",
              "  .colab-df-quickchart-complete:disabled:hover {\n",
              "    background-color: var(--disabled-bg-color);\n",
              "    fill: var(--disabled-fill-color);\n",
              "    box-shadow: none;\n",
              "  }\n",
              "\n",
              "  .colab-df-spinner {\n",
              "    border: 2px solid var(--fill-color);\n",
              "    border-color: transparent;\n",
              "    border-bottom-color: var(--fill-color);\n",
              "    animation:\n",
              "      spin 1s steps(1) infinite;\n",
              "  }\n",
              "\n",
              "  @keyframes spin {\n",
              "    0% {\n",
              "      border-color: transparent;\n",
              "      border-bottom-color: var(--fill-color);\n",
              "      border-left-color: var(--fill-color);\n",
              "    }\n",
              "    20% {\n",
              "      border-color: transparent;\n",
              "      border-left-color: var(--fill-color);\n",
              "      border-top-color: var(--fill-color);\n",
              "    }\n",
              "    30% {\n",
              "      border-color: transparent;\n",
              "      border-left-color: var(--fill-color);\n",
              "      border-top-color: var(--fill-color);\n",
              "      border-right-color: var(--fill-color);\n",
              "    }\n",
              "    40% {\n",
              "      border-color: transparent;\n",
              "      border-right-color: var(--fill-color);\n",
              "      border-top-color: var(--fill-color);\n",
              "    }\n",
              "    60% {\n",
              "      border-color: transparent;\n",
              "      border-right-color: var(--fill-color);\n",
              "    }\n",
              "    80% {\n",
              "      border-color: transparent;\n",
              "      border-right-color: var(--fill-color);\n",
              "      border-bottom-color: var(--fill-color);\n",
              "    }\n",
              "    90% {\n",
              "      border-color: transparent;\n",
              "      border-bottom-color: var(--fill-color);\n",
              "    }\n",
              "  }\n",
              "</style>\n",
              "\n",
              "  <script>\n",
              "    async function quickchart(key) {\n",
              "      const quickchartButtonEl =\n",
              "        document.querySelector('#' + key + ' button');\n",
              "      quickchartButtonEl.disabled = true;  // To prevent multiple clicks.\n",
              "      quickchartButtonEl.classList.add('colab-df-spinner');\n",
              "      try {\n",
              "        const charts = await google.colab.kernel.invokeFunction(\n",
              "            'suggestCharts', [key], {});\n",
              "      } catch (error) {\n",
              "        console.error('Error during call to suggestCharts:', error);\n",
              "      }\n",
              "      quickchartButtonEl.classList.remove('colab-df-spinner');\n",
              "      quickchartButtonEl.classList.add('colab-df-quickchart-complete');\n",
              "    }\n",
              "    (() => {\n",
              "      let quickchartButtonEl =\n",
              "        document.querySelector('#df-2e549ef9-6b2e-4e67-95c2-9b170802199b button');\n",
              "      quickchartButtonEl.style.display =\n",
              "        google.colab.kernel.accessAllowed ? 'block' : 'none';\n",
              "    })();\n",
              "  </script>\n",
              "</div>\n",
              "\n",
              "    </div>\n",
              "  </div>\n"
            ],
            "application/vnd.google.colaboratory.intrinsic+json": {
              "type": "dataframe",
              "summary": "{\n  \"name\": \"pd\",\n  \"rows\": 31,\n  \"fields\": [\n    {\n      \"column\": \"_id\",\n      \"properties\": {\n        \"dtype\": \"string\",\n        \"num_unique_values\": 31,\n        \"samples\": [\n          \"y87Ta5c7\",\n          \"T4E7Ge6\",\n          \"U9D2w6c\"\n        ],\n        \"semantic_type\": \"\",\n        \"description\": \"\"\n      }\n    },\n    {\n      \"column\": \"appointmentId\",\n      \"properties\": {\n        \"dtype\": \"string\",\n        \"num_unique_values\": 31,\n        \"samples\": [\n          \"432cT213\",\n          \"T4E3e410\",\n          \"cc86re0f\"\n        ],\n        \"semantic_type\": \"\",\n        \"description\": \"\"\n      }\n    },\n    {\n      \"column\": \"patientDetails\",\n      \"properties\": {\n        \"dtype\": \"object\",\n        \"semantic_type\": \"\",\n        \"description\": \"\"\n      }\n    },\n    {\n      \"column\": \"phoneNumber\",\n      \"properties\": {\n        \"dtype\": \"string\",\n        \"num_unique_values\": 27,\n        \"samples\": [\n          \"9987602525\",\n          \"7152684236\",\n          \"9234354366\"\n        ],\n        \"semantic_type\": \"\",\n        \"description\": \"\"\n      }\n    },\n    {\n      \"column\": \"consultationData\",\n      \"properties\": {\n        \"dtype\": \"object\",\n        \"semantic_type\": \"\",\n        \"description\": \"\"\n      }\n    }\n  ]\n}"
            }
          },
          "metadata": {},
          "execution_count": 30
        }
      ]
    },
    {
      "cell_type": "code",
      "source": [
        " df = pd.read_json(\"https://drive.usercontent.google.com/download?id=1_XyMO2udgEwso-oIKdTCxRgg4LWA11o3&export=download&authuser=0\")"
      ],
      "metadata": {
        "id": "-pvZBVWvPxC2"
      },
      "execution_count": 31,
      "outputs": []
    },
    {
      "cell_type": "code",
      "source": [
        "print(patientDetails.columns)"
      ],
      "metadata": {
        "colab": {
          "base_uri": "https://localhost:8080/"
        },
        "id": "2PN2SxsHQxgp",
        "outputId": "1b067a09-c5a1-44a2-e281-b639ad82e1cf"
      },
      "execution_count": 32,
      "outputs": [
        {
          "output_type": "stream",
          "name": "stdout",
          "text": [
            "Index(['_id', 'appointmentId', 'patientDetails', 'phoneNumber',\n",
            "       'consultationData'],\n",
            "      dtype='object')\n"
          ]
        }
      ]
    },
    {
      "cell_type": "code",
      "source": [
        "patient_details_column = df['patientDetails']\n",
        "print(patient_details_column)"
      ],
      "metadata": {
        "colab": {
          "base_uri": "https://localhost:8080/"
        },
        "id": "2ycHwMxtRqL9",
        "outputId": "385292e9-6a29-4182-ced5-c896111d5f3d"
      },
      "execution_count": 33,
      "outputs": [
        {
          "output_type": "stream",
          "name": "stdout",
          "text": [
            "0     {'_id': 'T6hb630b3', 'firstName': 'Css', 'last...\n",
            "1     {'_id': 'T6h33b300', 'firstName': 'Lokesh', 'l...\n",
            "2     {'_id': 'TjhB4373', 'phrId': '63b5hvy614d5', '...\n",
            "3     {'_id': '6df4R5b', 'phrId': '644nig7y', 'first...\n",
            "4     {'_id': 'lK9hy06a', 'firstName': 'Raghu Viju',...\n",
            "5     {'_id': 'kI9d5c6', 'firstName': 'Dinesh Kumar'...\n",
            "6     {'_id': 'i9R324b7', 'phrId': '67Yt2b97', 'firs...\n",
            "7     {'_id': 'T6h41b5ad3d8002ad9c3c4', 'firstName':...\n",
            "8     {'_id': 'T9Iy347e', 'firstName': 'Dinesh', 'la...\n",
            "9     {'_id': 'T4Rb1a2', 'firstName': 'Sanjay', 'las...\n",
            "10    {'_id': 'Tr4T2173', 'phrId': '6E48U79', 'first...\n",
            "11    {'_id': 'T6Wa50', 'firstName': 'Nirmala', 'las...\n",
            "12    {'_id': '65sRa36', 'firstName': 'Satish', 'las...\n",
            "13    {'_id': 'UG67231', 'phrId': 'T6a7231', 'firstN...\n",
            "14    {'_id': 'E4u5Ea2', 'firstName': 'Satyanaaryan'...\n",
            "15    {'_id': 'T4E7Ge6', 'firstName': 'Nivitha', 'la...\n",
            "16    {'_id': '04Re22d', 'firstName': 'Tejpal', 'las...\n",
            "17    {'_id': 'u7dWa589', 'firstName': 'Nandhini', '...\n",
            "18    {'_id': 'TU7e913', 'firstName': 'Dhanamma', 'l...\n",
            "19    {'_id': 'H8s2d40', 'firstName': 'Kushal', 'las...\n",
            "20    {'_id': 'u9cd6', 'phrId': '6463U8s231', 'first...\n",
            "21    {'_id': 'Pdh97S6', 'phrId': 'Jus0480', 'firstN...\n",
            "22    {'_id': 'h02U8a781', 'firstName': 'Preethi', '...\n",
            "23    {'_id': 'T6h40a5ad3d8002ad9c06a', 'firstName':...\n",
            "24    {'_id': 'Y7sHec', 'firstName': 'Naresh', 'last...\n",
            "25    {'_id': 'T6h408981ayf32b63bcfa', 'firstName': ...\n",
            "26    {'_id': 'T6U67af9', 'firstName': 'Govardhan', ...\n",
            "27    {'_id': 'R53Et5W', 'firstName': 'Rajeshwari', ...\n",
            "28    {'_id': 'dE3r$2b5', 'firstName': 'Santosh', 'l...\n",
            "29    {'_id': 'TI93Hd5', 'firstName': 'Tarachand', '...\n",
            "30    {'_id': 'Pdh97S6', 'phrId': 'Jus0480', 'firstN...\n",
            "Name: patientDetails, dtype: object\n"
          ]
        }
      ]
    },
    {
      "cell_type": "code",
      "source": [
        "missing_percentage = (df.isnull().sum()/len(df))*100\n",
        "print(missing_percentage)"
      ],
      "metadata": {
        "colab": {
          "base_uri": "https://localhost:8080/"
        },
        "id": "Ndg4fQAeRxjQ",
        "outputId": "d29a7494-e103-4646-9415-565e109bae85"
      },
      "execution_count": 34,
      "outputs": [
        {
          "output_type": "stream",
          "name": "stdout",
          "text": [
            "_id                 0.0\n",
            "appointmentId       0.0\n",
            "patientDetails      0.0\n",
            "phoneNumber         0.0\n",
            "consultationData    0.0\n",
            "dtype: float64\n"
          ]
        }
      ]
    },
    {
      "cell_type": "code",
      "source": [
        "patient_details_df = pd.DataFrame(patient_details_column.tolist())"
      ],
      "metadata": {
        "id": "1QZn-q7YSbrx"
      },
      "execution_count": 35,
      "outputs": []
    },
    {
      "cell_type": "code",
      "source": [
        "missing_percentage = (patient_details_df[['firstName', 'lastName']].isnull().sum() / len(patient_details_df)) * 100\n",
        "print(missing_percentage)"
      ],
      "metadata": {
        "colab": {
          "base_uri": "https://localhost:8080/"
        },
        "id": "QYe5ot3uSiJt",
        "outputId": "5beb3b53-9a27-45d6-9411-e27255bc67a0"
      },
      "execution_count": 36,
      "outputs": [
        {
          "output_type": "stream",
          "name": "stdout",
          "text": [
            "firstName    0.0\n",
            "lastName     0.0\n",
            "dtype: float64\n"
          ]
        }
      ]
    },
    {
      "cell_type": "code",
      "source": [
        "mode_gender = patient_details_df['gender'].mode()[0]"
      ],
      "metadata": {
        "id": "GHKU0v_nS4QX"
      },
      "execution_count": 37,
      "outputs": []
    },
    {
      "cell_type": "code",
      "source": [
        "patient_details_df['gender'].fillna(mode_gender, inplace=True)"
      ],
      "metadata": {
        "id": "x9Xt0b80S_MH"
      },
      "execution_count": 38,
      "outputs": []
    },
    {
      "cell_type": "code",
      "source": [
        "female_percentage = (patient_details_df['gender'] == 'female').sum() / len(patient_details_df) * 100\n"
      ],
      "metadata": {
        "id": "ZzYe1j3XTBf8"
      },
      "execution_count": 40,
      "outputs": []
    },
    {
      "cell_type": "code",
      "source": [
        "gender_percentages = patient_details_df['gender'].value_counts(normalize=True) * 100\n",
        "print(gender_percentages)"
      ],
      "metadata": {
        "colab": {
          "base_uri": "https://localhost:8080/"
        },
        "id": "XzhW2iQ3TVzA",
        "outputId": "d5cd2790-a2de-40b0-f985-c79c72065ff5"
      },
      "execution_count": 42,
      "outputs": [
        {
          "output_type": "stream",
          "name": "stdout",
          "text": [
            "gender\n",
            "M    64.516129\n",
            "F    32.258065\n",
            "      3.225806\n",
            "Name: proportion, dtype: float64\n"
          ]
        }
      ]
    },
    {
      "cell_type": "code",
      "source": [
        "patient_details_column = df['patientDetails']\n",
        "print(patient_details_column)"
      ],
      "metadata": {
        "colab": {
          "base_uri": "https://localhost:8080/"
        },
        "id": "mLFBsUHMU7me",
        "outputId": "1bfdaa4b-1020-4d43-f62d-04c5589d5250"
      },
      "execution_count": 49,
      "outputs": [
        {
          "output_type": "stream",
          "name": "stdout",
          "text": [
            "0     {'_id': 'T6hb630b3', 'firstName': 'Css', 'last...\n",
            "1     {'_id': 'T6h33b300', 'firstName': 'Lokesh', 'l...\n",
            "2     {'_id': 'TjhB4373', 'phrId': '63b5hvy614d5', '...\n",
            "3     {'_id': '6df4R5b', 'phrId': '644nig7y', 'first...\n",
            "4     {'_id': 'lK9hy06a', 'firstName': 'Raghu Viju',...\n",
            "5     {'_id': 'kI9d5c6', 'firstName': 'Dinesh Kumar'...\n",
            "6     {'_id': 'i9R324b7', 'phrId': '67Yt2b97', 'firs...\n",
            "7     {'_id': 'T6h41b5ad3d8002ad9c3c4', 'firstName':...\n",
            "8     {'_id': 'T9Iy347e', 'firstName': 'Dinesh', 'la...\n",
            "9     {'_id': 'T4Rb1a2', 'firstName': 'Sanjay', 'las...\n",
            "10    {'_id': 'Tr4T2173', 'phrId': '6E48U79', 'first...\n",
            "11    {'_id': 'T6Wa50', 'firstName': 'Nirmala', 'las...\n",
            "12    {'_id': '65sRa36', 'firstName': 'Satish', 'las...\n",
            "13    {'_id': 'UG67231', 'phrId': 'T6a7231', 'firstN...\n",
            "14    {'_id': 'E4u5Ea2', 'firstName': 'Satyanaaryan'...\n",
            "15    {'_id': 'T4E7Ge6', 'firstName': 'Nivitha', 'la...\n",
            "16    {'_id': '04Re22d', 'firstName': 'Tejpal', 'las...\n",
            "17    {'_id': 'u7dWa589', 'firstName': 'Nandhini', '...\n",
            "18    {'_id': 'TU7e913', 'firstName': 'Dhanamma', 'l...\n",
            "19    {'_id': 'H8s2d40', 'firstName': 'Kushal', 'las...\n",
            "20    {'_id': 'u9cd6', 'phrId': '6463U8s231', 'first...\n",
            "21    {'_id': 'Pdh97S6', 'phrId': 'Jus0480', 'firstN...\n",
            "22    {'_id': 'h02U8a781', 'firstName': 'Preethi', '...\n",
            "23    {'_id': 'T6h40a5ad3d8002ad9c06a', 'firstName':...\n",
            "24    {'_id': 'Y7sHec', 'firstName': 'Naresh', 'last...\n",
            "25    {'_id': 'T6h408981ayf32b63bcfa', 'firstName': ...\n",
            "26    {'_id': 'T6U67af9', 'firstName': 'Govardhan', ...\n",
            "27    {'_id': 'R53Et5W', 'firstName': 'Rajeshwari', ...\n",
            "28    {'_id': 'dE3r$2b5', 'firstName': 'Santosh', 'l...\n",
            "29    {'_id': 'TI93Hd5', 'firstName': 'Tarachand', '...\n",
            "30    {'_id': 'Pdh97S6', 'phrId': 'Jus0480', 'firstN...\n",
            "Name: patientDetails, dtype: object\n"
          ]
        }
      ]
    },
    {
      "cell_type": "code",
      "source": [
        "age_gender_df = patient_details_df[['ageGroup', 'gender']]"
      ],
      "metadata": {
        "id": "vr_r6TSAWOOq"
      },
      "execution_count": 64,
      "outputs": []
    },
    {
      "cell_type": "code",
      "source": [
        "age_bins = [0, 12, 19, 59, float('inf')]\n",
        "age_labels = ['Child', 'Teen', 'Adult', 'Senior']"
      ],
      "metadata": {
        "id": "l2kZDeeqW_eI"
      },
      "execution_count": 69,
      "outputs": []
    },
    {
      "cell_type": "code",
      "source": [],
      "metadata": {
        "id": "cIuToSZkXhTT"
      },
      "execution_count": null,
      "outputs": []
    },
    {
      "cell_type": "code",
      "source": [
        "print(patient_details_df)"
      ],
      "metadata": {
        "colab": {
          "base_uri": "https://localhost:8080/"
        },
        "id": "hjfMq0CVXKwz",
        "outputId": "80d41eea-35f8-44c3-c4c3-9ff0a348f41a"
      },
      "execution_count": 71,
      "outputs": [
        {
          "output_type": "stream",
          "name": "stdout",
          "text": [
            "                       _id                 firstName     lastName emailId  \\\n",
            "0                T6hb630b3                       Css                        \n",
            "1                T6h33b300                    Lokesh                        \n",
            "2                 TjhB4373                     Shila          Das           \n",
            "3                  6df4R5b                   Bhavika  Ben Panchal           \n",
            "4                 lK9hy06a                Raghu Viju                        \n",
            "5                  kI9d5c6              Dinesh Kumar                        \n",
            "6                 i9R324b7                     Lalit     Sankhwal           \n",
            "7   T6h41b5ad3d8002ad9c3c4                      Ravi                        \n",
            "8                 T9Iy347e                    Dinesh                        \n",
            "9                  T4Rb1a2                    Sanjay                        \n",
            "10                Tr4T2173                    Akshay       Akshay           \n",
            "11                  T6Wa50                   Nirmala                        \n",
            "12                 65sRa36                    Satish                        \n",
            "13                 UG67231                Kalaiarasi   Kalaiarasi           \n",
            "14                 E4u5Ea2              Satyanaaryan                        \n",
            "15                 T4E7Ge6                   Nivitha                        \n",
            "16                 04Re22d                    Tejpal                        \n",
            "17                u7dWa589                  Nandhini                        \n",
            "18                 TU7e913                  Dhanamma                        \n",
            "19                 H8s2d40                    Kushal                        \n",
            "20                   u9cd6                    Daniya        Zehra           \n",
            "21                 Pdh97S6                       Jay       Sharma           \n",
            "22               h02U8a781                   Preethi                        \n",
            "23  T6h40a5ad3d8002ad9c06a  VITTHAL SHANKARRAO GHATE                  NaN   \n",
            "24                  Y7sHec                    Naresh                        \n",
            "25   T6h408981ayf32b63bcfa                    Suresh      Gaikwad           \n",
            "26                T6U67af9                 Govardhan                        \n",
            "27                 R53Et5W                Rajeshwari                        \n",
            "28                dE3r$2b5                   Santosh                        \n",
            "29                 TI93Hd5                 Tarachand                        \n",
            "30                 Pdh97S6                       Jay       Sharma           \n",
            "\n",
            "   gender alternateContact                 birthDate         phrId  \\\n",
            "0                                               None           NaN   \n",
            "1       M              NaN  1996-05-16T18:30:00.000Z           NaN   \n",
            "2       M              NaN                       NaN  63b5hvy614d5   \n",
            "3       F              NaN  1988-04-24T14:30:00.000Z      644nig7y   \n",
            "4       M                                        NaN           NaN   \n",
            "5       M              NaN  1983-05-16T18:30:00.000Z           NaN   \n",
            "6       M                   2003-06-27T14:30:00.000Z      67Yt2b97   \n",
            "7       M              NaN                       NaN           NaN   \n",
            "8       M              NaN  1983-05-16T18:30:00.000Z           NaN   \n",
            "9       M              NaN  1998-05-16T18:30:00.000Z           NaN   \n",
            "10      M              NaN  1988-04-08T00:00:00.000Z       6E48U79   \n",
            "11      F              NaN  1971-05-16T18:30:00.000Z           NaN   \n",
            "12      M              NaN  1970-05-16T18:30:00.000Z           NaN   \n",
            "13      F                   1997-07-31T00:00:00.000Z       T6a7231   \n",
            "14      M                                        NaN           NaN   \n",
            "15      F              NaN  1997-05-16T18:30:00.000Z           NaN   \n",
            "16      M              NaN  1972-05-16T18:30:00.000Z           NaN   \n",
            "17      F              NaN  2001-05-16T18:30:00.000Z           NaN   \n",
            "18      F              NaN                       NaN           NaN   \n",
            "19      M              NaN                       NaN           NaN   \n",
            "20      F              NaN  2001-08-27T00:00:00.000Z    6463U8s231   \n",
            "21      M              NaN  1998-11-19T23:30:00.000Z       Jus0480   \n",
            "22      F              NaN  1996-05-16T18:30:00.000Z           NaN   \n",
            "23      M    +917797689682                       NaN           NaN   \n",
            "24      M              NaN  1992-05-16T18:30:00.000Z           NaN   \n",
            "25      M                                        NaN           NaN   \n",
            "26      M                                        NaN           NaN   \n",
            "27      F              NaN  1999-05-16T18:30:00.000Z           NaN   \n",
            "28      F              NaN  1972-05-16T18:30:00.000Z           NaN   \n",
            "29      M                   1980-03-22T18:30:00.000Z           NaN   \n",
            "30      M              NaN  1991-11-19T23:30:00.000Z       Jus0480   \n",
            "\n",
            "                                           chat      customId ageGroup  \n",
            "0                                           NaN           NaN      age  \n",
            "1                                           NaN           NaN      age  \n",
            "2                                           NaN           NaN      age  \n",
            "3                                           NaN           NaN      age  \n",
            "4                                           NaN           NaN      age  \n",
            "5                           {'_id': '09hUb5c7'}  3FPEUCW8HACJ      age  \n",
            "6                                           NaN           NaN      age  \n",
            "7             {'_id': 'T6h41b5ad3d8002ad9c3c5'}  8AV4ICI5I389      age  \n",
            "8                           {'_id': 'T9IsT37f'}  0308MSAHYR8K      age  \n",
            "9                           {'_id': '7Yd9b1a3'}  8S7A3D4K4WZH      age  \n",
            "10  {'_id': 'Tr4W174', 'channelId': '9IrR9ce7'}  83AH0K04SSTV      age  \n",
            "11            {'_id': 'T6h3635ad3d8002ad9b001'}  832ZIS6ZCAHH      age  \n",
            "12                            {'_id': '6Y6a36'}  YW883CARSES3      age  \n",
            "13                                          NaN           NaN      age  \n",
            "14                           {'_id': 'E4u5Ea2'}       E4u5Ea2      age  \n",
            "15                                          NaN           NaN      age  \n",
            "16                           {'_id': '04Re22d'}       04Re22d      age  \n",
            "17                                          NaN           NaN      age  \n",
            "18                         {'_id': 'u8e6fgd14'}       y7ewr5w      age  \n",
            "19                                          NaN           NaN      age  \n",
            "20                                          NaN           NaN      age  \n",
            "21                                          NaN           NaN      age  \n",
            "22                          {'_id': 'T6h9a782'}     H8NdI3MAW      age  \n",
            "23            {'_id': 'T6h40a1becc5002908b235'}  83AAWWI24W63      age  \n",
            "24                                          NaN           NaN      age  \n",
            "25                           {'_id': 'Hsb690S'}      ABCD1419      age  \n",
            "26                         {'_id': 'u7sg9be5a'}       Gya7sfw      age  \n",
            "27                      {'_id': 'T6h2fT5535c6'}      K44RwH0T      age  \n",
            "28                                          NaN           NaN      age  \n",
            "29                           {'_id': 'TH8W2d6'}       90hjdX2      age  \n",
            "30                                          NaN           NaN      age  \n"
          ]
        }
      ]
    },
    {
      "cell_type": "code",
      "source": [
        "medicines_list = [consultation.get('medicines', []) for consultation in df['consultationData']]"
      ],
      "metadata": {
        "id": "1qDsRzXzYLqI"
      },
      "execution_count": 77,
      "outputs": []
    },
    {
      "cell_type": "code",
      "source": [
        "print (medicines_list)"
      ],
      "metadata": {
        "colab": {
          "base_uri": "https://localhost:8080/"
        },
        "id": "pgUc3q6QYviy",
        "outputId": "ca174dc7-0c74-4fc8-bb42-ff687fac30af"
      },
      "execution_count": 78,
      "outputs": [
        {
          "output_type": "stream",
          "name": "stdout",
          "text": [
            "[[{'medicineId': '619404', 'medicineName': 'A', 'medicineNameStrengthType': '', 'frequency': '1-0-1', 'duration': '90', 'durationIn': 'DAYS', 'instruction': 'AFTER MEAL', 'isActive': True}, {'medicineId': '619804', 'medicineName': 'B', 'medicineNameStrengthType': '', 'frequency': '1-0-1', 'duration': '90', 'durationIn': 'DAYS', 'instruction': 'AFTER MEAL', 'isActive': False}], [{'medicineId': '619404', 'medicineName': 'A', 'medicineNameStrengthType': '', 'frequency': '1-0-1', 'duration': '90', 'durationIn': 'DAYS', 'instruction': 'AFTER MEAL', 'isActive': True}, {'medicineId': '619804', 'medicineName': 'C', 'medicineNameStrengthType': '', 'frequency': '1-0-1', 'duration': '30', 'durationIn': 'DAYS', 'instruction': 'AFTER MEAL', 'isActive': False}], [{'medicineId': '619404', 'medicineName': 'B', 'medicineNameStrengthType': '', 'frequency': '1-0-1', 'duration': '10', 'durationIn': 'DAYS', 'instruction': 'AFTER MEAL', 'isActive': True}, {'medicineId': '619404', 'medicineName': 'A', 'medicineNameStrengthType': '', 'frequency': '1-0-1', 'duration': '60', 'durationIn': 'DAYS', 'instruction': 'AFTER MEAL', 'isActive': False}, {'medicineId': '619404', 'medicineName': 'C', 'medicineNameStrengthType': '', 'frequency': '1-0-1', 'duration': '90', 'durationIn': 'DAYS', 'instruction': 'AFTER MEAL', 'isActive': True}], [{'medicineId': '619704', 'medicineName': 'B', 'medicineNameStrengthType': '', 'frequency': '1-0-1', 'duration': '90', 'durationIn': 'DAYS', 'instruction': 'AFTER MEAL', 'isActive': True}], [{'medicineId': '619384', 'medicineName': 'D', 'medicineNameStrengthType': '', 'frequency': '1-1-1', 'duration': '90', 'durationIn': 'DAYS', 'instruction': 'AFTER MEAL', 'isActive': True}, {'medicineId': '628424', 'medicineName': 'A', 'medicineNameStrengthType': '', 'frequency': '1-0-1', 'duration': '90', 'durationIn': 'DAYS', 'instruction': 'AFTER MEAL', 'isActive': True}], [{'medicineId': '643404', 'medicineName': 'A', 'medicineNameStrengthType': '', 'frequency': '1-0-1', 'duration': '90', 'durationIn': 'DAYS', 'instruction': 'AFTER MEAL', 'isActive': True}, {'medicineId': '615604', 'medicineName': 'D', 'medicineNameStrengthType': '', 'frequency': '1-0-1', 'duration': '90', 'durationIn': 'DAYS', 'instruction': 'AFTER MEAL', 'isActive': False}, {'medicineId': '617704', 'medicineName': 'E', 'medicineNameStrengthType': '', 'frequency': '1-0-1', 'duration': '90', 'durationIn': 'DAYS', 'instruction': 'AFTER MEAL', 'isActive': True}, {'medicineId': '685404', 'medicineName': 'C', 'medicineNameStrengthType': '', 'frequency': '1-0-1', 'duration': '90', 'durationIn': 'DAYS', 'instruction': 'AFTER MEAL', 'isActive': False}], [{'medicineId': '632304', 'medicineName': 'D', 'medicineNameStrengthType': '', 'frequency': '1-0-1', 'duration': '90', 'durationIn': 'DAYS', 'instruction': 'AFTER MEAL', 'isActive': True}, {'medicineId': '617624', 'medicineName': 'E', 'medicineNameStrengthType': '', 'frequency': '1-0-1', 'duration': '90', 'durationIn': 'DAYS', 'instruction': 'AFTER MEAL', 'isActive': True}], [{'medicineId': '619404', 'medicineName': 'A', 'medicineNameStrengthType': '', 'frequency': '1-0-1', 'duration': '90', 'durationIn': 'DAYS', 'instruction': 'AFTER MEAL', 'isActive': True}], [{'medicineId': '619504', 'medicineName': 'E', 'medicineNameStrengthType': '', 'frequency': '1-0-1', 'duration': '90', 'durationIn': 'DAYS', 'instruction': 'AFTER MEAL', 'isActive': True}], [], [{'medicineId': '619504', 'medicineName': 'E', 'medicineNameStrengthType': '', 'frequency': '1-0-1', 'duration': '90', 'durationIn': 'DAYS', 'instruction': 'AFTER MEAL', 'isActive': False}], [{'medicineId': '619504', 'medicineName': 'E', 'medicineNameStrengthType': '', 'frequency': '1-0-1', 'duration': '90', 'durationIn': 'DAYS', 'instruction': 'AFTER MEAL', 'isActive': True}, {'medicineId': '611304', 'medicineName': 'A', 'medicineNameStrengthType': '', 'frequency': '1-0-1', 'duration': '90', 'durationIn': 'DAYS', 'instruction': 'AFTER MEAL', 'isActive': True}, {'medicineId': '619504', 'medicineName': 'D', 'medicineNameStrengthType': '', 'frequency': '1-0-1', 'duration': '90', 'durationIn': 'DAYS', 'instruction': 'AFTER MEAL', 'isActive': False}], [], [{'medicineId': '619504', 'medicineName': 'A', 'medicineNameStrengthType': '', 'frequency': '1-0-1', 'duration': '90', 'durationIn': 'DAYS', 'instruction': 'AFTER MEAL', 'isActive': True}, {'medicineId': '619504', 'medicineName': 'B', 'medicineNameStrengthType': '', 'frequency': '1-0-1', 'duration': '90', 'durationIn': 'DAYS', 'instruction': 'AFTER MEAL', 'isActive': True}, {'medicineId': '619504', 'medicineName': 'D', 'medicineNameStrengthType': '', 'frequency': '1-0-1', 'duration': '90', 'durationIn': 'DAYS', 'instruction': 'AFTER MEAL', 'isActive': False}], [], [{'medicineId': '619504', 'medicineName': 'B', 'medicineNameStrengthType': '', 'frequency': '1-0-1', 'duration': '90', 'durationIn': 'DAYS', 'instruction': 'AFTER MEAL', 'isActive': True}, {'medicineId': '619504', 'medicineName': 'D', 'medicineNameStrengthType': '', 'frequency': '1-0-1', 'duration': '90', 'durationIn': 'DAYS', 'instruction': 'AFTER MEAL', 'isActive': True}, {'medicineId': '619504', 'medicineName': 'C', 'medicineNameStrengthType': '', 'frequency': '1-0-1', 'duration': '90', 'durationIn': 'DAYS', 'instruction': 'AFTER MEAL', 'isActive': True}], [{'medicineId': '619504', 'medicineName': 'C', 'medicineNameStrengthType': '', 'frequency': '1-0-1', 'duration': '90', 'durationIn': 'DAYS', 'instruction': 'AFTER MEAL', 'isActive': True}, {'medicineId': '619504', 'medicineName': 'A', 'medicineNameStrengthType': '', 'frequency': '1-0-1', 'duration': '90', 'durationIn': 'DAYS', 'instruction': 'AFTER MEAL', 'isActive': True}], [{'medicineId': '619504', 'medicineName': 'A', 'medicineNameStrengthType': '', 'frequency': '1-0-1', 'duration': '90', 'durationIn': 'DAYS', 'instruction': 'AFTER MEAL', 'isActive': True}, {'medicineId': '619504', 'medicineName': 'C', 'medicineNameStrengthType': '', 'frequency': '1-0-1', 'duration': '90', 'durationIn': 'DAYS', 'instruction': 'AFTER MEAL', 'isActive': False}, {'medicineId': '619504', 'medicineName': 'B', 'medicineNameStrengthType': '', 'frequency': '1-0-1', 'duration': '90', 'durationIn': 'DAYS', 'instruction': 'AFTER MEAL', 'isActive': True}], [{'medicineId': '619504', 'medicineName': 'A', 'medicineNameStrengthType': '', 'frequency': '1-0-1', 'duration': '90', 'durationIn': 'DAYS', 'instruction': 'AFTER MEAL', 'isActive': False}, {'medicineId': '619504', 'medicineName': 'B', 'medicineNameStrengthType': '', 'frequency': '1-0-1', 'duration': '90', 'durationIn': 'DAYS', 'instruction': 'AFTER MEAL', 'isActive': True}, {'medicineId': '619504', 'medicineName': 'C', 'medicineNameStrengthType': '', 'frequency': '1-0-1', 'duration': '90', 'durationIn': 'DAYS', 'instruction': 'AFTER MEAL', 'isActive': True}, {'medicineId': '619504', 'medicineName': 'D', 'medicineNameStrengthType': '', 'frequency': '1-0-1', 'duration': '90', 'durationIn': 'DAYS', 'instruction': 'AFTER MEAL', 'isActive': True}], [], [{'medicineId': '619504', 'medicineName': 'D', 'medicineNameStrengthType': '', 'frequency': '1-0-1', 'duration': '90', 'durationIn': 'DAYS', 'instruction': 'AFTER MEAL', 'isActive': False}], [{'medicineId': '612504', 'medicineName': 'D', 'medicineNameStrengthType': '', 'frequency': '1-0-1', 'duration': '90', 'durationIn': 'DAYS', 'instruction': 'AFTER MEAL', 'isActive': False}, {'medicineId': '612504', 'medicineName': 'D', 'medicineNameStrengthType': '', 'frequency': '1-0-1', 'duration': '90', 'durationIn': 'DAYS', 'instruction': 'AFTER MEAL', 'isActive': False}, {'medicineId': '612504', 'medicineName': 'B', 'medicineNameStrengthType': '', 'frequency': '1-0-1', 'duration': '90', 'durationIn': 'DAYS', 'instruction': 'AFTER MEAL', 'isActive': True}], [{'medicineId': '611504', 'medicineName': 'A', 'medicineNameStrengthType': '', 'frequency': '1-0-1', 'duration': '90', 'durationIn': 'DAYS', 'instruction': 'AFTER MEAL', 'isActive': True}, {'medicineId': '619504', 'medicineName': 'G', 'medicineNameStrengthType': '', 'frequency': '1-0-1', 'duration': '90', 'durationIn': 'DAYS', 'instruction': 'AFTER MEAL', 'isActive': False}, {'medicineId': '619304', 'medicineName': 'B', 'medicineNameStrengthType': '', 'frequency': '1-0-1', 'duration': '90', 'durationIn': 'DAYS', 'instruction': 'AFTER MEAL', 'isActive': True}, {'medicineId': '612504', 'medicineName': 'D', 'medicineNameStrengthType': '', 'frequency': '1-0-1', 'duration': '90', 'durationIn': 'DAYS', 'instruction': 'AFTER MEAL', 'isActive': True}], [{'medicineId': '612504', 'medicineName': 'A', 'medicineNameStrengthType': '', 'frequency': '1-0-1', 'duration': '90', 'durationIn': 'DAYS', 'instruction': 'AFTER MEAL', 'isActive': True}, {'medicineId': '612504', 'medicineName': 'B', 'medicineNameStrengthType': '', 'frequency': '1-0-1', 'duration': '90', 'durationIn': 'DAYS', 'instruction': 'AFTER MEAL', 'isActive': True}, {'medicineId': '612504', 'medicineName': 'C', 'medicineNameStrengthType': '', 'frequency': '1-0-1', 'duration': '90', 'durationIn': 'DAYS', 'instruction': 'AFTER MEAL', 'isActive': True}], [], [{'medicineId': '612504', 'medicineName': 'D', 'medicineNameStrengthType': '', 'frequency': '1-0-1', 'duration': '90', 'durationIn': 'DAYS', 'instruction': 'AFTER MEAL', 'isActive': True}, {'medicineId': '612504', 'medicineName': 'A', 'medicineNameStrengthType': '', 'frequency': '1-0-1', 'duration': '90', 'durationIn': 'DAYS', 'instruction': 'AFTER MEAL', 'isActive': True}, {'medicineId': '612504', 'medicineName': 'E', 'medicineNameStrengthType': '', 'frequency': '1-0-1', 'duration': '90', 'durationIn': 'DAYS', 'instruction': 'AFTER MEAL', 'isActive': True}, {'medicineId': '612504', 'medicineName': 'C', 'medicineNameStrengthType': '', 'frequency': '1-0-1', 'duration': '90', 'durationIn': 'DAYS', 'instruction': 'AFTER MEAL', 'isActive': False}], [{'medicineId': '612504', 'medicineName': 'C', 'medicineNameStrengthType': '', 'frequency': '1-0-1', 'duration': '90', 'durationIn': 'DAYS', 'instruction': 'AFTER MEAL', 'isActive': False}, {'medicineId': '612504', 'medicineName': 'D', 'medicineNameStrengthType': '', 'frequency': '1-0-1', 'duration': '90', 'durationIn': 'DAYS', 'instruction': 'AFTER MEAL', 'isActive': False}], [{'medicineId': '612504', 'medicineName': 'A', 'medicineNameStrengthType': '', 'frequency': '1-0-1', 'duration': '90', 'durationIn': 'DAYS', 'instruction': 'AFTER MEAL', 'isActive': False}, {'medicineId': '612504', 'medicineName': 'C', 'medicineNameStrengthType': '', 'frequency': '1-0-1', 'duration': '90', 'durationIn': 'DAYS', 'instruction': 'AFTER MEAL', 'isActive': True}, {'medicineId': '612504', 'medicineName': 'C', 'medicineNameStrengthType': '', 'frequency': '1-0-1', 'duration': '90', 'durationIn': 'DAYS', 'instruction': 'AFTER MEAL', 'isActive': False}, {'medicineId': '612504', 'medicineName': 'D', 'medicineNameStrengthType': '', 'frequency': '1-0-1', 'duration': '90', 'durationIn': 'DAYS', 'instruction': 'AFTER MEAL', 'isActive': True}], [], [{'medicineId': '612504', 'medicineName': 'A', 'medicineNameStrengthType': '', 'frequency': '1-0-1', 'duration': '90', 'durationIn': 'DAYS', 'instruction': 'AFTER MEAL', 'isActive': True}, {'medicineId': '612504', 'medicineName': 'B', 'medicineNameStrengthType': '', 'frequency': '1-0-1', 'duration': '90', 'durationIn': 'DAYS', 'instruction': 'AFTER MEAL', 'isActive': True}, {'medicineId': '612504', 'medicineName': 'C', 'medicineNameStrengthType': '', 'frequency': '1-0-1', 'duration': '90', 'durationIn': 'DAYS', 'instruction': 'AFTER MEAL', 'isActive': True}, {'medicineId': '612504', 'medicineName': 'D', 'medicineNameStrengthType': '', 'frequency': '1-0-1', 'duration': '90', 'durationIn': 'DAYS', 'instruction': 'AFTER MEAL', 'isActive': True}], [{'medicineId': '612504', 'medicineName': 'A', 'medicineNameStrengthType': '', 'frequency': '1-0-1', 'duration': '90', 'durationIn': 'DAYS', 'instruction': 'AFTER MEAL', 'isActive': True}, {'medicineId': '612504', 'medicineName': 'D', 'medicineNameStrengthType': '', 'frequency': '1-0-1', 'duration': '90', 'durationIn': 'DAYS', 'instruction': 'AFTER MEAL', 'isActive': True}, {'medicineId': '612504', 'medicineName': 'D', 'medicineNameStrengthType': '', 'frequency': '1-0-1', 'duration': '90', 'durationIn': 'DAYS', 'instruction': 'AFTER MEAL', 'isActive': False}, {'medicineId': '612504', 'medicineName': 'B', 'medicineNameStrengthType': '', 'frequency': '1-0-1', 'duration': '90', 'durationIn': 'DAYS', 'instruction': 'AFTER MEAL', 'isActive': True}]]\n"
          ]
        }
      ]
    },
    {
      "cell_type": "code",
      "source": [
        "num_medicines = [len(medicines) for medicines in medicines_list]\n",
        "average_medicines = sum(num_medicines) / len(num_medicines)\n",
        "print(average_medicines)"
      ],
      "metadata": {
        "colab": {
          "base_uri": "https://localhost:8080/"
        },
        "id": "AQ_unGhNZQU6",
        "outputId": "1127a379-6165-49bf-ad28-2e444f50ab75"
      },
      "execution_count": 79,
      "outputs": [
        {
          "output_type": "stream",
          "name": "stdout",
          "text": [
            "2.129032258064516\n"
          ]
        }
      ]
    },
    {
      "cell_type": "code",
      "source": [
        "all_medicines = [medicine['medicineName']\n",
        "                 for consultation in df['consultationData']\n",
        "                 for medicine in consultation.get('medicines', [])]"
      ],
      "metadata": {
        "id": "A3kYO030ZaG9"
      },
      "execution_count": 80,
      "outputs": []
    },
    {
      "cell_type": "code",
      "source": [
        "from collections import Counter\n",
        "medicine_counts = Counter(all_medicines)"
      ],
      "metadata": {
        "id": "FVbXijTVZsIt"
      },
      "execution_count": 81,
      "outputs": []
    },
    {
      "cell_type": "code",
      "source": [
        "third_most_common = medicine_counts.most_common(3)[2]\n",
        "print(third_most_common)"
      ],
      "metadata": {
        "colab": {
          "base_uri": "https://localhost:8080/"
        },
        "id": "rmWsebAnZvbx",
        "outputId": "ce8bae41-397f-4273-e333-a5e500a57a71"
      },
      "execution_count": 82,
      "outputs": [
        {
          "output_type": "stream",
          "name": "stdout",
          "text": [
            "('C', 13)\n"
          ]
        }
      ]
    },
    {
      "cell_type": "code",
      "source": [
        "all_medicines = [medicine\n",
        "                 for consultation in df['consultationData']\n",
        "                 for medicine in consultation.get('medicines', [])]\n",
        "\n",
        "active_count = sum(1 for medicine in all_medicines if medicine.get('isActive') == True)\n",
        "inactive_count = sum(1 for medicine in all_medicines if medicine.get('isActive') == False)\n",
        "\n",
        "total = active_count + inactive_count\n",
        "active_percentage = (active_count / total) * 100\n",
        "inactive_percentage = (inactive_count / total) * 100\n",
        "\n",
        "print(\"Percentage of active medicines: {:.2f}%\".format(active_percentage))\n",
        "print(\"Percentage of inactive medicines: {:.2f}%\".format(inactive_percentage))\n"
      ],
      "metadata": {
        "colab": {
          "base_uri": "https://localhost:8080/"
        },
        "id": "7PMLCretZ6Le",
        "outputId": "b81ed126-7683-4fbd-8953-b1b8ea6be00e"
      },
      "execution_count": 83,
      "outputs": [
        {
          "output_type": "stream",
          "name": "stdout",
          "text": [
            "Percentage of active medicines: 69.70%\n",
            "Percentage of inactive medicines: 30.30%\n"
          ]
        }
      ]
    },
    {
      "cell_type": "code",
      "source": [
        "import re\n"
      ],
      "metadata": {
        "id": "FW_g0avIasLc"
      },
      "execution_count": 87,
      "outputs": []
    },
    {
      "cell_type": "code",
      "source": [
        "def is_valid_indian_phone(phone_number):\n",
        "  \"\"\"Checks if a phone number is a valid Indian phone number.\"\"\"\n",
        "  pattern = r\"^[6-9]\\d{9}$\"\n",
        "  return bool(re.match(pattern, phone_number))"
      ],
      "metadata": {
        "id": "lQzg75dNapmv"
      },
      "execution_count": 86,
      "outputs": []
    },
    {
      "cell_type": "code",
      "source": [
        "df['isValidMobile'] = df['patientDetails'].apply(lambda x: is_valid_indian_phone(str(x.get('phoneNumber', ''))))\n",
        "\n",
        "print(df[['patientDetails', 'isValidMobile']])"
      ],
      "metadata": {
        "colab": {
          "base_uri": "https://localhost:8080/"
        },
        "id": "NCt1THyGaqXI",
        "outputId": "bf9fdda2-4eb0-4015-daa3-38d909e098e1"
      },
      "execution_count": 88,
      "outputs": [
        {
          "output_type": "stream",
          "name": "stdout",
          "text": [
            "                                       patientDetails  isValidMobile\n",
            "0   {'_id': 'T6hb630b3', 'firstName': 'Css', 'last...          False\n",
            "1   {'_id': 'T6h33b300', 'firstName': 'Lokesh', 'l...          False\n",
            "2   {'_id': 'TjhB4373', 'phrId': '63b5hvy614d5', '...          False\n",
            "3   {'_id': '6df4R5b', 'phrId': '644nig7y', 'first...          False\n",
            "4   {'_id': 'lK9hy06a', 'firstName': 'Raghu Viju',...          False\n",
            "5   {'_id': 'kI9d5c6', 'firstName': 'Dinesh Kumar'...          False\n",
            "6   {'_id': 'i9R324b7', 'phrId': '67Yt2b97', 'firs...          False\n",
            "7   {'_id': 'T6h41b5ad3d8002ad9c3c4', 'firstName':...          False\n",
            "8   {'_id': 'T9Iy347e', 'firstName': 'Dinesh', 'la...          False\n",
            "9   {'_id': 'T4Rb1a2', 'firstName': 'Sanjay', 'las...          False\n",
            "10  {'_id': 'Tr4T2173', 'phrId': '6E48U79', 'first...          False\n",
            "11  {'_id': 'T6Wa50', 'firstName': 'Nirmala', 'las...          False\n",
            "12  {'_id': '65sRa36', 'firstName': 'Satish', 'las...          False\n",
            "13  {'_id': 'UG67231', 'phrId': 'T6a7231', 'firstN...          False\n",
            "14  {'_id': 'E4u5Ea2', 'firstName': 'Satyanaaryan'...          False\n",
            "15  {'_id': 'T4E7Ge6', 'firstName': 'Nivitha', 'la...          False\n",
            "16  {'_id': '04Re22d', 'firstName': 'Tejpal', 'las...          False\n",
            "17  {'_id': 'u7dWa589', 'firstName': 'Nandhini', '...          False\n",
            "18  {'_id': 'TU7e913', 'firstName': 'Dhanamma', 'l...          False\n",
            "19  {'_id': 'H8s2d40', 'firstName': 'Kushal', 'las...          False\n",
            "20  {'_id': 'u9cd6', 'phrId': '6463U8s231', 'first...          False\n",
            "21  {'_id': 'Pdh97S6', 'phrId': 'Jus0480', 'firstN...          False\n",
            "22  {'_id': 'h02U8a781', 'firstName': 'Preethi', '...          False\n",
            "23  {'_id': 'T6h40a5ad3d8002ad9c06a', 'firstName':...          False\n",
            "24  {'_id': 'Y7sHec', 'firstName': 'Naresh', 'last...          False\n",
            "25  {'_id': 'T6h408981ayf32b63bcfa', 'firstName': ...          False\n",
            "26  {'_id': 'T6U67af9', 'firstName': 'Govardhan', ...          False\n",
            "27  {'_id': 'R53Et5W', 'firstName': 'Rajeshwari', ...          False\n",
            "28  {'_id': 'dE3r$2b5', 'firstName': 'Santosh', 'l...          False\n",
            "29  {'_id': 'TI93Hd5', 'firstName': 'Tarachand', '...          False\n",
            "30  {'_id': 'Pdh97S6', 'phrId': 'Jus0480', 'firstN...          False\n"
          ]
        }
      ]
    },
    {
      "cell_type": "code",
      "source": [
        "ages = patient_details_df['ageGroup'].tolist()\n",
        "num_medicines = [len(consultation.get('medicines', [])) for consultation in df['consultationData']]"
      ],
      "metadata": {
        "id": "27O-WKwjavq_"
      },
      "execution_count": 89,
      "outputs": []
    },
    {
      "cell_type": "code",
      "source": [
        "# Check for and handle invalid values in 'ages'\n",
        "import numpy as np\n",
        "ages = np.array(patient_details_df['ageGroup'].tolist())  # Convert to NumPy array for easier handling\n",
        "\n",
        "# Replace infinities with a large number and NaNs with a placeholder\n",
        "ages[np.isinf(ages)] = 999  # Replace inf with a large number\n",
        "ages = np.nan_to_num(ages, nan=-1)  # Replace NaN with -1 (or any suitable placeholder)\n",
        "\n",
        "# Now calculate the correlation\n",
        "from scipy.stats import pearsonr\n",
        "correlation, p_value = pearsonr(ages, num_medicines)\n",
        "\n",
        "print(\"Pearson correlation: \", correlation)\n",
        "print(\"P-value: \", p_value)"
      ],
      "metadata": {
        "colab": {
          "base_uri": "https://localhost:8080/"
        },
        "id": "GmYPmGt9bDQ6",
        "outputId": "0492429b-63a5-47ed-d185-484411289228"
      },
      "execution_count": 91,
      "outputs": [
        {
          "output_type": "stream",
          "name": "stdout",
          "text": [
            "Pearson correlation:  nan\n",
            "P-value:  nan\n"
          ]
        },
        {
          "output_type": "stream",
          "name": "stderr",
          "text": [
            "/usr/local/lib/python3.10/dist-packages/scipy/stats/_stats_py.py:4781: ConstantInputWarning: An input array is constant; the correlation coefficient is not defined.\n",
            "  warnings.warn(stats.ConstantInputWarning(msg))\n"
          ]
        }
      ]
    },
    {
      "cell_type": "code",
      "source": [],
      "metadata": {
        "id": "p0z2YodhbVZW"
      },
      "execution_count": null,
      "outputs": []
    }
  ]
}